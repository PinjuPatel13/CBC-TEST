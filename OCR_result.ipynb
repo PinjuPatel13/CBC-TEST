import csv
import matplotlib.pyplot as plt
from PIL import Image
import numpy as np
from paddleocr import PaddleOCR, draw_ocr
import cv2
import re

# Initialize PaddleOCR (English by default)
ocr = PaddleOCR(use_angle_cls=True, lang='en')  # lang='en' for English, 'ch' for Chinese, etc.

# Path to the image
img_path = r'D:\User\Pinjal\Work\AI_Project\health-prediction-app\modal\uploads\webp.webp'  # Path to your image file

# Read and display the uploaded image
image = Image.open(img_path)
plt.figure(figsize=(8, 8))
plt.imshow(image)
plt.axis('off')
plt.title("Uploaded Image")
plt.show()

# Perform OCR on the image
result = ocr.ocr(img_path, cls=True)

# Print the OCR results for debugging
print("OCR Results:")
for line in result[0]:
    print(f"Detected text: {line[1]} (Confidence: {line[0]})")

# Open the image and convert it to RGB format
image = Image.open(img_path).convert('RGB')

# Resize the image for better readability (if needed)
image_width, image_height = image.size
new_width = 800  # Set desired width for readability
new_height = int((new_width / image_width) * image_height)
image = image.resize((new_width, new_height), Image.Resampling.LANCZOS)

# Modify boxes to have a consistent shape
boxes = [line[0] for line in result[0]]  # Extract boxes from the result
# Convert boxes to the expected format (list of four coordinates)
modified_boxes = [[box[0][0], box[0][1], box[2][0], box[2][1]] for box in boxes]

# Extract text for CSV output
csv_data = []

# Sort boxes based on their Y-coordinate to detect rows
sorted_boxes = sorted(modified_boxes, key=lambda x: x[1])

# Group text by rows and columns
row_data = []
previous_y = sorted_boxes[0][1]  # Starting Y-coordinate for the first row
row_texts = []
column_positions = []

# Loop through the boxes to group text
for box, line in zip(sorted_boxes, result[0]):
    text = line[1][0].strip()  # Strip leading/trailing spaces
    x0, y0, x2, y2 = box  # Coordinates of the bounding box

    # If the Y-coordinate changes significantly, consider it as the next row
    if abs(y0 - previous_y) > 10:  # You can adjust this threshold
        # Add the previous row's data to the CSV data
        row_data.append(row_texts)
        row_texts = []  # Reset row texts
        previous_y = y0  # Update the previous Y for next comparison

    # Add the text to the current row
    row_texts.append(text)

    # Detect column positions based on X coordinates (for better grouping)
    if x0 not in column_positions:
        column_positions.append(x0)

# Add the last row to the data
row_data.append(row_texts)

# Save OCR results (table structure) to CSV
csv_file = r'table_results1.csv'


# Find the maximum number of columns (to ensure consistent row lengths)
max_columns = max(len(row) for row in row_data)

# Fill missing values with empty strings to ensure each row has the same number of columns
for row in row_data:
    while len(row) < max_columns:
        row.append('')

# Write the CSV data to a file
with open(csv_file, mode='w', newline='', encoding='utf-8') as file:
    writer = csv.writer(file)
    writer.writerows(row_data)

print(f"OCR table results saved to: {csv_file}")

# Define the parameters you're interested in
parameters = {
    "Hemoglobin": ["Hemoglobin", "HGB"],  # "HGB" is treated as an alias for Hemoglobin
    "Total RBC Count": ["Total RBC Count", "RBC Count"],
    "PCV": ["PCV", "Packed Cell Volume"],
    "MCV": ["MCV", "Mean Corpuscular Volume"],
    "MCH": ["MCH", "Mean Corpuscular Hemoglobin"],
    "RDW": ["RDW", "Red Cell Distribution Width"],
    "Total WBC Count": ["Total WBC Count", "WBC Count", "WBC"],
    "Neutrophils": ["Neutrophils"],
    "Lymphocytes": ["Lymphocytes"],
    "Eosinophils": ["Eosinophils"],
    "Monocytes": ["Monocytes"],
    "Basophils": ["Basophils"],
    "Platelet Count": ["Platelet Count", "Plt"]
}

# Function to search for parameters in the CSV and extract the corresponding numbers
def search_parameters(csv_file, parameters):
    results = {}

    # Open and read the CSV file
    with open(csv_file, mode='r', newline='', encoding='utf-8') as file:
        reader = csv.reader(file)

        # Loop through each row in the CSV
        for row in reader:
            for param, aliases in parameters.items():
                found = False
                for alias in aliases:
                    for idx, cell in enumerate(row):
                        # Use regex to search for the alias
                        if re.search(r'\b' + re.escape(alias.lower()) + r'\b', cell.lower()):
                            # Extract the value from the next cell, if available
                            if idx + 1 < len(row):
                                value = row[idx + 1]
                                # Remove unwanted characters like commas and spaces
                                cleaned_value = re.sub(r'[^\w.]', '', value)  # Removes any non-alphanumeric or non-period characters
                                # Ensure the value is not already in the results for this parameter
                                if param not in results:
                                    results[param] = cleaned_value
                                else:
                                    # If the value already exists, don't add it again
                                    if results[param] != cleaned_value:
                                        results[param] = cleaned_value
                                found = True
                                break
                    if found:
                        break

    return results

# Search for the parameters in the CSV
parameter_results = search_parameters(csv_file, parameters)

# Print the results (only parameters that were found)
if parameter_results:
    # Save the found parameters to a text file
    output_txt_file = r'D:\User\Pinjal\Work\AI_Project\health-prediction-app\modal\found_parameters.txt'  # Path for the output text file
    with open(output_txt_file, 'w', encoding='utf-8') as f:
        f.write("Found parameters and their values:\n")
        for param, value in parameter_results.items():
            f.write(f"{param}: {value}\n")  # Save only the parameter and its value

    print(f"Found parameters saved to: {output_txt_file}")

    # Automatically read the generated text file
    with open(output_txt_file, 'r', encoding='utf-8') as f:
        file_contents = f.read()
        print("\n--- Automatically Read Text File Contents ---")
        print(file_contents)  # Output the content of the file to verify it's been read
else:
    print("No parameters found in the CSV.")
